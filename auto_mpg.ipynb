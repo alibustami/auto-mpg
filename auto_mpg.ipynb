{
 "cells": [
  {
   "cell_type": "markdown",
   "metadata": {},
   "source": [
    "# Auto MPG Prediction using Torch"
   ]
  },
  {
   "cell_type": "markdown",
   "metadata": {},
   "source": [
    "This notebook is a simple example of how to use PyTorch to build a simple neural network to predict the fuel efficiency of late-1970s and early 1980s automobiles. The dataset is taken from the UCI Machine Learning Repository and can be found [here](https://archive.ics.uci.edu/ml/datasets/auto+mpg).\n",
    "\n",
    "The dataset contains 398 rows and 9 columns. Each row is a car and each column is a feature of the car. The columns are as follows:\n",
    "\n",
    "1. mpg: miles per gallon\n",
    "2. cylinders: number of cylinders\n",
    "3. displacement: engine displacement in cubic inches\n",
    "4. horsepower: engine horsepower\n",
    "5. weight: vehicle weight\n",
    "6. acceleration: time to accelerate from 0 to 60 mph\n",
    "7. model year: model year\n",
    "8. origin: origin of car\n",
    "9. car name: name of car\n",
    "\n",
    "We will use the first 7 columns to predict the miles per gallon of the car."
   ]
  },
  {
   "cell_type": "markdown",
   "metadata": {},
   "source": [
    "## Downloading Required Libraries"
   ]
  },
  {
   "cell_type": "code",
   "execution_count": 1,
   "metadata": {},
   "outputs": [
    {
     "name": "stdout",
     "output_type": "stream",
     "text": [
      "Requirement already satisfied: pandas==2.0.3 in /Users/aalbustami/miniconda3/envs/ml-pytorch-book-env/lib/python3.8/site-packages (2.0.3)\n",
      "Requirement already satisfied: torch==2.2.0 in /Users/aalbustami/miniconda3/envs/ml-pytorch-book-env/lib/python3.8/site-packages (2.2.0)\n",
      "Requirement already satisfied: scikit-learn==1.3.2 in /Users/aalbustami/miniconda3/envs/ml-pytorch-book-env/lib/python3.8/site-packages (1.3.2)\n",
      "Requirement already satisfied: python-dateutil>=2.8.2 in /Users/aalbustami/miniconda3/envs/ml-pytorch-book-env/lib/python3.8/site-packages (from pandas==2.0.3) (2.8.2)\n",
      "Requirement already satisfied: pytz>=2020.1 in /Users/aalbustami/miniconda3/envs/ml-pytorch-book-env/lib/python3.8/site-packages (from pandas==2.0.3) (2023.3.post1)\n",
      "Requirement already satisfied: tzdata>=2022.1 in /Users/aalbustami/miniconda3/envs/ml-pytorch-book-env/lib/python3.8/site-packages (from pandas==2.0.3) (2023.4)\n",
      "Requirement already satisfied: numpy>=1.20.3 in /Users/aalbustami/miniconda3/envs/ml-pytorch-book-env/lib/python3.8/site-packages (from pandas==2.0.3) (1.24.4)\n",
      "Requirement already satisfied: filelock in /Users/aalbustami/miniconda3/envs/ml-pytorch-book-env/lib/python3.8/site-packages (from torch==2.2.0) (3.13.1)\n",
      "Requirement already satisfied: typing-extensions>=4.8.0 in /Users/aalbustami/miniconda3/envs/ml-pytorch-book-env/lib/python3.8/site-packages (from torch==2.2.0) (4.9.0)\n",
      "Requirement already satisfied: sympy in /Users/aalbustami/miniconda3/envs/ml-pytorch-book-env/lib/python3.8/site-packages (from torch==2.2.0) (1.12)\n",
      "Requirement already satisfied: networkx in /Users/aalbustami/miniconda3/envs/ml-pytorch-book-env/lib/python3.8/site-packages (from torch==2.2.0) (3.1)\n",
      "Requirement already satisfied: jinja2 in /Users/aalbustami/miniconda3/envs/ml-pytorch-book-env/lib/python3.8/site-packages (from torch==2.2.0) (3.1.3)\n",
      "Requirement already satisfied: fsspec in /Users/aalbustami/miniconda3/envs/ml-pytorch-book-env/lib/python3.8/site-packages (from torch==2.2.0) (2023.12.2)\n",
      "Requirement already satisfied: scipy>=1.5.0 in /Users/aalbustami/miniconda3/envs/ml-pytorch-book-env/lib/python3.8/site-packages (from scikit-learn==1.3.2) (1.10.1)\n",
      "Requirement already satisfied: joblib>=1.1.1 in /Users/aalbustami/miniconda3/envs/ml-pytorch-book-env/lib/python3.8/site-packages (from scikit-learn==1.3.2) (1.3.2)\n",
      "Requirement already satisfied: threadpoolctl>=2.0.0 in /Users/aalbustami/miniconda3/envs/ml-pytorch-book-env/lib/python3.8/site-packages (from scikit-learn==1.3.2) (3.2.0)\n",
      "Requirement already satisfied: six>=1.5 in /Users/aalbustami/miniconda3/envs/ml-pytorch-book-env/lib/python3.8/site-packages (from python-dateutil>=2.8.2->pandas==2.0.3) (1.16.0)\n",
      "Requirement already satisfied: MarkupSafe>=2.0 in /Users/aalbustami/miniconda3/envs/ml-pytorch-book-env/lib/python3.8/site-packages (from jinja2->torch==2.2.0) (2.1.4)\n",
      "Requirement already satisfied: mpmath>=0.19 in /Users/aalbustami/miniconda3/envs/ml-pytorch-book-env/lib/python3.8/site-packages (from sympy->torch==2.2.0) (1.3.0)\n"
     ]
    }
   ],
   "source": [
    "!pip install pandas==2.0.3 torch==2.2.0 scikit-learn==1.3.2"
   ]
  },
  {
   "cell_type": "markdown",
   "metadata": {},
   "source": [
    "## Loading the data"
   ]
  },
  {
   "cell_type": "code",
   "execution_count": 2,
   "metadata": {},
   "outputs": [],
   "source": [
    "import pandas as pd\n",
    "\n",
    "\n",
    "url = 'http://archive.ics.uci.edu/ml/machine-learning-databases/auto-mpg/auto-mpg.data'\n",
    "column_names = ['MPG', 'Cylinders', 'Displacement',\n",
    "                'Horsepower', 'Weight', 'Acceleration', 'Model Year', 'Origin']\n",
    "\n",
    "\n",
    "df = pd.read_csv(url, names=column_names, na_values=\"?\",\n",
    "                 comment='\\t', sep=\" \", skipinitialspace=True)"
   ]
  },
  {
   "cell_type": "markdown",
   "metadata": {},
   "source": [
    "## Preprocessing the data"
   ]
  },
  {
   "cell_type": "markdown",
   "metadata": {},
   "source": [
    "### Drop the missing values"
   ]
  },
  {
   "cell_type": "code",
   "execution_count": 3,
   "metadata": {},
   "outputs": [],
   "source": [
    "df = df.dropna()\n",
    "df = df.reset_index(drop=True)"
   ]
  },
  {
   "cell_type": "markdown",
   "metadata": {},
   "source": [
    "### split the data into train and test"
   ]
  },
  {
   "cell_type": "code",
   "execution_count": 4,
   "metadata": {},
   "outputs": [
    {
     "data": {
      "text/html": [
       "<div>\n",
       "<style scoped>\n",
       "    .dataframe tbody tr th:only-of-type {\n",
       "        vertical-align: middle;\n",
       "    }\n",
       "\n",
       "    .dataframe tbody tr th {\n",
       "        vertical-align: top;\n",
       "    }\n",
       "\n",
       "    .dataframe thead th {\n",
       "        text-align: right;\n",
       "    }\n",
       "</style>\n",
       "<table border=\"1\" class=\"dataframe\">\n",
       "  <thead>\n",
       "    <tr style=\"text-align: right;\">\n",
       "      <th></th>\n",
       "      <th>count</th>\n",
       "      <th>mean</th>\n",
       "      <th>std</th>\n",
       "      <th>min</th>\n",
       "      <th>25%</th>\n",
       "      <th>50%</th>\n",
       "      <th>75%</th>\n",
       "      <th>max</th>\n",
       "    </tr>\n",
       "  </thead>\n",
       "  <tbody>\n",
       "    <tr>\n",
       "      <th>MPG</th>\n",
       "      <td>313.0</td>\n",
       "      <td>23.404153</td>\n",
       "      <td>7.666909</td>\n",
       "      <td>9.0</td>\n",
       "      <td>17.5</td>\n",
       "      <td>23.0</td>\n",
       "      <td>29.0</td>\n",
       "      <td>46.6</td>\n",
       "    </tr>\n",
       "    <tr>\n",
       "      <th>Cylinders</th>\n",
       "      <td>313.0</td>\n",
       "      <td>5.402556</td>\n",
       "      <td>1.701506</td>\n",
       "      <td>3.0</td>\n",
       "      <td>4.0</td>\n",
       "      <td>4.0</td>\n",
       "      <td>8.0</td>\n",
       "      <td>8.0</td>\n",
       "    </tr>\n",
       "    <tr>\n",
       "      <th>Displacement</th>\n",
       "      <td>313.0</td>\n",
       "      <td>189.512780</td>\n",
       "      <td>102.675646</td>\n",
       "      <td>68.0</td>\n",
       "      <td>104.0</td>\n",
       "      <td>140.0</td>\n",
       "      <td>260.0</td>\n",
       "      <td>455.0</td>\n",
       "    </tr>\n",
       "    <tr>\n",
       "      <th>Horsepower</th>\n",
       "      <td>313.0</td>\n",
       "      <td>102.929712</td>\n",
       "      <td>37.919046</td>\n",
       "      <td>46.0</td>\n",
       "      <td>75.0</td>\n",
       "      <td>92.0</td>\n",
       "      <td>120.0</td>\n",
       "      <td>230.0</td>\n",
       "    </tr>\n",
       "    <tr>\n",
       "      <th>Weight</th>\n",
       "      <td>313.0</td>\n",
       "      <td>2961.198083</td>\n",
       "      <td>848.602146</td>\n",
       "      <td>1613.0</td>\n",
       "      <td>2219.0</td>\n",
       "      <td>2755.0</td>\n",
       "      <td>3574.0</td>\n",
       "      <td>5140.0</td>\n",
       "    </tr>\n",
       "    <tr>\n",
       "      <th>Acceleration</th>\n",
       "      <td>313.0</td>\n",
       "      <td>15.704473</td>\n",
       "      <td>2.725399</td>\n",
       "      <td>8.5</td>\n",
       "      <td>14.0</td>\n",
       "      <td>15.5</td>\n",
       "      <td>17.3</td>\n",
       "      <td>24.8</td>\n",
       "    </tr>\n",
       "    <tr>\n",
       "      <th>Model Year</th>\n",
       "      <td>313.0</td>\n",
       "      <td>75.929712</td>\n",
       "      <td>3.675305</td>\n",
       "      <td>70.0</td>\n",
       "      <td>73.0</td>\n",
       "      <td>76.0</td>\n",
       "      <td>79.0</td>\n",
       "      <td>82.0</td>\n",
       "    </tr>\n",
       "    <tr>\n",
       "      <th>Origin</th>\n",
       "      <td>313.0</td>\n",
       "      <td>1.591054</td>\n",
       "      <td>0.807923</td>\n",
       "      <td>1.0</td>\n",
       "      <td>1.0</td>\n",
       "      <td>1.0</td>\n",
       "      <td>2.0</td>\n",
       "      <td>3.0</td>\n",
       "    </tr>\n",
       "  </tbody>\n",
       "</table>\n",
       "</div>"
      ],
      "text/plain": [
       "              count         mean         std     min     25%     50%     75%  \\\n",
       "MPG           313.0    23.404153    7.666909     9.0    17.5    23.0    29.0   \n",
       "Cylinders     313.0     5.402556    1.701506     3.0     4.0     4.0     8.0   \n",
       "Displacement  313.0   189.512780  102.675646    68.0   104.0   140.0   260.0   \n",
       "Horsepower    313.0   102.929712   37.919046    46.0    75.0    92.0   120.0   \n",
       "Weight        313.0  2961.198083  848.602146  1613.0  2219.0  2755.0  3574.0   \n",
       "Acceleration  313.0    15.704473    2.725399     8.5    14.0    15.5    17.3   \n",
       "Model Year    313.0    75.929712    3.675305    70.0    73.0    76.0    79.0   \n",
       "Origin        313.0     1.591054    0.807923     1.0     1.0     1.0     2.0   \n",
       "\n",
       "                 max  \n",
       "MPG             46.6  \n",
       "Cylinders        8.0  \n",
       "Displacement   455.0  \n",
       "Horsepower     230.0  \n",
       "Weight        5140.0  \n",
       "Acceleration    24.8  \n",
       "Model Year      82.0  \n",
       "Origin           3.0  "
      ]
     },
     "execution_count": 4,
     "metadata": {},
     "output_type": "execute_result"
    }
   ],
   "source": [
    "import sklearn\n",
    "from sklearn import model_selection\n",
    "\n",
    "df_train, df_test = model_selection.train_test_split(\n",
    "    df, train_size=0.8, random_state=1)\n",
    "\n",
    "train_status = df_train.describe().transpose()\n",
    "train_status"
   ]
  },
  {
   "cell_type": "markdown",
   "metadata": {},
   "source": [
    "### Normalize the numerical columns"
   ]
  },
  {
   "cell_type": "code",
   "execution_count": 5,
   "metadata": {},
   "outputs": [
    {
     "name": "stdout",
     "output_type": "stream",
     "text": [
      "before normalization:\n",
      "       MPG  Cylinders  Displacement  Horsepower  Weight  Acceleration  \\\n",
      "334  27.2          4         135.0        84.0  2490.0          15.7   \n",
      "258  18.6          6         225.0       110.0  3620.0          18.7   \n",
      "139  29.0          4          98.0        83.0  2219.0          16.5   \n",
      "310  37.2          4          86.0        65.0  2019.0          16.4   \n",
      "349  33.0          4         105.0        74.0  2190.0          14.2   \n",
      "\n",
      "     Model Year  Origin  \n",
      "334          81       1  \n",
      "258          78       1  \n",
      "139          74       2  \n",
      "310          80       3  \n",
      "349          81       2  \n",
      "\n",
      "\n",
      "after normalization:\n",
      "       MPG  Cylinders  Displacement  Horsepower    Weight  Acceleration  \\\n",
      "334  27.2  -0.824303     -0.530922   -0.499214 -0.555264     -0.001641   \n",
      "258  18.6   0.351127      0.345625    0.186457  0.776338      1.099115   \n",
      "139  29.0  -0.824303     -0.891280   -0.525586 -0.874613      0.291894   \n",
      "310  37.2  -0.824303     -1.008153   -1.000281 -1.110294      0.255202   \n",
      "349  33.0  -0.824303     -0.823104   -0.762934 -0.908786     -0.552019   \n",
      "\n",
      "     Model Year  Origin  \n",
      "334          81       1  \n",
      "258          78       1  \n",
      "139          74       2  \n",
      "310          80       3  \n",
      "349          81       2  \n"
     ]
    }
   ],
   "source": [
    "print(f'before normalization:\\n', df_train.head())\n",
    "numeric_column_names = ['Cylinders', 'Displacement',\n",
    "                        'Horsepower', 'Weight', 'Acceleration']\n",
    "\n",
    "df_train_norm, df_test_norm = df_train.copy(), df_test.copy()\n",
    "\n",
    "for col_name in numeric_column_names:\n",
    "    mean = train_status.loc[col_name, 'mean']\n",
    "    std = train_status.loc[col_name, 'std']\n",
    "\n",
    "    df_train_norm.loc[:, col_name] = (\n",
    "        df_train_norm.loc[:, col_name] - mean) / std\n",
    "\n",
    "    df_test_norm.loc[:, col_name] = (\n",
    "        df_test_norm.loc[:, col_name] - mean) / std\n",
    "print()\n",
    "print('\\nafter normalization:\\n', df_train_norm.head())\n"
   ]
  },
  {
   "cell_type": "markdown",
   "metadata": {},
   "source": [
    "### Bucketizing"
   ]
  },
  {
   "cell_type": "code",
   "execution_count": 6,
   "metadata": {},
   "outputs": [],
   "source": [
    "import torch\n",
    "\n",
    "boundaries = torch.tensor([73, 76, 79])\n",
    "v = torch.tensor(df_train_norm['Model Year'].values)\n",
    "\n",
    "df_train_norm['Model Year Bucketed'] = torch.bucketize(\n",
    "    v, boundaries, right=True)\n",
    "\n",
    "v = torch.tensor(df_test_norm['Model Year'].values)\n",
    "df_test_norm['Model Year Bucketed'] = torch.bucketize(v, boundaries, right=True)\n",
    "\n",
    "numeric_column_names.append('Model Year Bucketed')"
   ]
  },
  {
   "cell_type": "markdown",
   "metadata": {},
   "source": [
    "### Hot Encoding"
   ]
  },
  {
   "cell_type": "code",
   "execution_count": 7,
   "metadata": {},
   "outputs": [],
   "source": [
    "from torch.nn.functional import one_hot\n",
    "\n",
    "total_origin = len(set(df_train_norm['Origin']))\n",
    "\n",
    "origin_encoded = one_hot(torch.from_numpy(\n",
    "    df_train_norm['Origin'].values) % total_origin)\n",
    "\n",
    "x_train_numeric = torch.tensor(df_train_norm[numeric_column_names].values)\n",
    "\n",
    "x_train = torch.cat([x_train_numeric, origin_encoded], 1).float()\n",
    "\n",
    "origin_encoded = one_hot(torch.from_numpy(\n",
    "    df_test_norm['Origin'].values) % total_origin)\n",
    "\n",
    "x_test_numeric = torch.tensor(df_test_norm[numeric_column_names].values)\n",
    "\n",
    "x_test = torch.cat([x_test_numeric, origin_encoded], 1).float()"
   ]
  },
  {
   "cell_type": "markdown",
   "metadata": {},
   "source": [
    "### Create Y label (Ground Truth)"
   ]
  },
  {
   "cell_type": "code",
   "execution_count": 8,
   "metadata": {},
   "outputs": [],
   "source": [
    "y_train = torch.tensor(df_train_norm['MPG'].values).float()\n",
    "y_test = torch.tensor(df_test_norm['MPG'].values).float()"
   ]
  },
  {
   "cell_type": "markdown",
   "metadata": {},
   "source": [
    "## Training"
   ]
  },
  {
   "cell_type": "code",
   "execution_count": 9,
   "metadata": {},
   "outputs": [],
   "source": [
    "from torch.utils.data import TensorDataset, DataLoader\n",
    "\n",
    "train_ds = TensorDataset(x_train, y_train)\n",
    "batch_size = 8\n",
    "\n",
    "torch.manual_seed(1)\n",
    "\n",
    "train_dl = DataLoader(train_ds, batch_size, shuffle=True)"
   ]
  },
  {
   "cell_type": "code",
   "execution_count": 10,
   "metadata": {},
   "outputs": [
    {
     "data": {
      "text/plain": [
       "Sequential(\n",
       "  (0): Linear(in_features=9, out_features=8, bias=True)\n",
       "  (1): ReLU()\n",
       "  (2): Linear(in_features=8, out_features=4, bias=True)\n",
       "  (3): ReLU()\n",
       "  (4): Linear(in_features=4, out_features=1, bias=True)\n",
       ")"
      ]
     },
     "execution_count": 10,
     "metadata": {},
     "output_type": "execute_result"
    }
   ],
   "source": [
    "from torch import nn\n",
    "hidden_units = [8, 4]\n",
    "input_size = x_train.shape[1]\n",
    "\n",
    "all_layers = []\n",
    "\n",
    "for hidden_unit in hidden_units:\n",
    "    layer = nn.Linear(input_size, hidden_unit)\n",
    "    all_layers.append(layer)\n",
    "    all_layers.append(nn.ReLU())\n",
    "    input_size = hidden_unit\n",
    "\n",
    "all_layers.append(nn.Linear(hidden_units[-1], 1))\n",
    "\n",
    "model = nn.Sequential(*all_layers)\n",
    "model"
   ]
  },
  {
   "cell_type": "code",
   "execution_count": 11,
   "metadata": {},
   "outputs": [],
   "source": [
    "loss_fn = nn.MSELoss()\n",
    "optimizer = torch.optim.SGD(model.parameters(), lr=0.001)"
   ]
  },
  {
   "cell_type": "code",
   "execution_count": 12,
   "metadata": {},
   "outputs": [
    {
     "name": "stdout",
     "output_type": "stream",
     "text": [
      "Epoch 0 \tLoss\t536.1047\n",
      "Epoch 20 \tLoss\t8.4361\n",
      "Epoch 40 \tLoss\t7.8695\n",
      "Epoch 60 \tLoss\t7.1891\n",
      "Epoch 80 \tLoss\t6.7064\n",
      "Epoch 100 \tLoss\t6.7603\n",
      "Epoch 120 \tLoss\t6.3107\n",
      "Epoch 140 \tLoss\t6.6884\n",
      "Epoch 160 \tLoss\t6.7549\n",
      "Epoch 180 \tLoss\t6.2029\n"
     ]
    }
   ],
   "source": [
    "torch.manual_seed(1)\n",
    "num_epochs = 200\n",
    "log_epochs = 20\n",
    "\n",
    "for epoch in range(num_epochs):\n",
    "    loss_train_hist = 0\n",
    "\n",
    "    for x_batch, y_batch in train_dl:\n",
    "        pred = model(x_batch)[:, 0]\n",
    "        loss = loss_fn(pred, y_batch)\n",
    "\n",
    "        loss.backward()\n",
    "        optimizer.step()\n",
    "        optimizer.zero_grad()\n",
    "\n",
    "        loss_train_hist += loss.item()\n",
    "\n",
    "    if epoch % log_epochs == 0:\n",
    "        print(f'Epoch {epoch} \\tLoss\\t{loss_train_hist/len(train_dl):.4f}')\n"
   ]
  },
  {
   "cell_type": "code",
   "execution_count": 13,
   "metadata": {},
   "outputs": [
    {
     "name": "stdout",
     "output_type": "stream",
     "text": [
      "Test MSE:\t9.5907\n",
      "Test MAE:\t2.1177\n"
     ]
    }
   ],
   "source": [
    "with torch.no_grad():\n",
    "    pred = model(x_test.float())[:, 0]\n",
    "    loss = loss_fn(pred, y_test)\n",
    "\n",
    "    print(f'Test MSE:\\t{loss.item():.4f}')\n",
    "    print(f'Test MAE:\\t{nn.L1Loss()(pred, y_test).item():.4f}')"
   ]
  }
 ],
 "metadata": {
  "kernelspec": {
   "display_name": "ml-pytorch-book-env",
   "language": "python",
   "name": "python3"
  },
  "language_info": {
   "codemirror_mode": {
    "name": "ipython",
    "version": 3
   },
   "file_extension": ".py",
   "mimetype": "text/x-python",
   "name": "python",
   "nbconvert_exporter": "python",
   "pygments_lexer": "ipython3",
   "version": "3.8.18"
  }
 },
 "nbformat": 4,
 "nbformat_minor": 2
}
